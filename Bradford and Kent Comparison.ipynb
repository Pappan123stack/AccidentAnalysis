{
 "cells": [
  {
   "cell_type": "code",
   "execution_count": null,
   "id": "25033ec2",
   "metadata": {},
   "outputs": [],
   "source": [
    "# Source code : Bradford council data comparison of accident. \n",
    "# Date Written : 30-11-2023 - 05-12-2023\n",
    "# Programmer : Anish Vattemkuzhyil Appukuttan\n",
    "# Description : This creates a heatmap of Kent just like the way\n",
    "# we created for Bradford using DBSCAN. But as there is no data , we will not be able to see the clusters. This\n",
    "# can be used in the future.\n"
   ]
  },
  {
   "cell_type": "code",
   "execution_count": 2,
   "id": "6a6e7768",
   "metadata": {},
   "outputs": [],
   "source": [
    "import pandas as pd\n",
    "import geopandas as gpd\n",
    "from sklearn.cluster import DBSCAN\n",
    "import folium\n",
    "from folium.plugins import HeatMap\n",
    "import warnings\n",
    "\n",
    "\n",
    "\n",
    "\n",
    "df = pd.read_csv('C:/Users/44743/Desktop/Data Science/Bedford/bfd_crashes.csv')\n",
    "\n",
    "# Converting the DataFrame to a GeoDataFrame\n",
    "gdf = gpd.GeoDataFrame(df, geometry=gpd.points_from_xy(df.longitude, df.latitude))\n",
    "\n",
    "# Defining the location for Kent\n",
    "kent_coords = [51.2787, 0.5217]  # Latitude and longitude for Kent\n",
    "\n",
    "# Creating a folium map centered around Kent\n",
    "map = folium.Map(location=kent_coords, zoom_start=10)\n",
    "\n",
    "# Creating a HeatMap layer and add it to the base map\n",
    "heat_data = [[point.xy[1][0], point.xy[0][0]] for point in gdf.geometry]\n",
    "HeatMap(heat_data).add_to(map)\n",
    "\n",
    "# Applying DBSCAN to identify clusters\n",
    "coords = gdf[['latitude', 'longitude']]\n",
    "db = DBSCAN(eps=0.001, min_samples=10).fit(coords)  # Adjust eps and min_samples as needed\n",
    "cluster_labels = db.labels_\n",
    "num_clusters = len(set(cluster_labels)) - (1 if -1 in cluster_labels else 0)\n",
    "clusters = pd.Series([coords[cluster_labels == n] for n in range(num_clusters)])\n",
    "\n",
    "# Add the cluster centers to the map\n",
    "for cluster in clusters:\n",
    "    if not cluster.empty:\n",
    "        folium.Marker(\n",
    "            location=[cluster.latitude.mean(), cluster.longitude.mean()],\n",
    "            icon=folium.Icon(color='blue', icon='info-sign'),\n",
    "            popup=f\"Cluster Center\\nCount: {len(cluster)}\",\n",
    "        ).add_to(map)\n",
    "\n",
    "# Save the map to an HTML file\n",
    "map.save('kent_accident_heatmap.html')\n",
    "warnings.filterwarnings('ignore')\n",
    "\n"
   ]
  },
  {
   "cell_type": "code",
   "execution_count": null,
   "id": "92f40369",
   "metadata": {},
   "outputs": [],
   "source": []
  }
 ],
 "metadata": {
  "kernelspec": {
   "display_name": "Python 3 (ipykernel)",
   "language": "python",
   "name": "python3"
  },
  "language_info": {
   "codemirror_mode": {
    "name": "ipython",
    "version": 3
   },
   "file_extension": ".py",
   "mimetype": "text/x-python",
   "name": "python",
   "nbconvert_exporter": "python",
   "pygments_lexer": "ipython3",
   "version": "3.9.13"
  }
 },
 "nbformat": 4,
 "nbformat_minor": 5
}
