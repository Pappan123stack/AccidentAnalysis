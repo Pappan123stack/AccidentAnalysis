{
 "cells": [
  {
   "cell_type": "code",
   "execution_count": null,
   "id": "4f648353",
   "metadata": {},
   "outputs": [],
   "source": [
    "# Source code : Bradford council Vehicles details analysis\n",
    "# Date Written : 30-11-2023 - 05-12-2023\n",
    "# Programmer : Anish Vattemkuzhyil Appukuttan\n",
    "# Description : This notebook load the heatmap, which contains the accident prone regions in bradford and\n",
    "# convert those details for GIS software in a GEOJSON format. So in GIS software we will be able to\n",
    "# study those hotspots and its reasons\n",
    "\n"
   ]
  },
  {
   "cell_type": "code",
   "execution_count": 4,
   "id": "e47d8e96",
   "metadata": {},
   "outputs": [],
   "source": [
    "import json\n",
    "import re\n",
    "\n",
    "# Path to your HTML file\n",
    "html_file_path = \"C:/Users/44743/Desktop/Data Science/Bedford/crashes - Jupyter Notebook.html\"\n",
    "\n",
    "# Open and read the HTML file\n",
    "with open(html_file_path, \"r\", encoding='utf-8') as file:\n",
    "    html_content = file.read()\n",
    "\n",
    "# Find the data in the HTML file (this regex might need to be adjusted)\n",
    "match = re.search(r'var\\s+data\\s*=\\s*(\\[.*?\\]);', html_content, re.DOTALL | re.MULTILINE)\n",
    "if match:\n",
    "    data_str = match.group(1)\n",
    "\n",
    "    # Convert the string to JSON (Python dictionary)\n",
    "    data_json = json.loads(data_str)\n",
    "\n",
    "    # Convert to GeoJSON format\n",
    "    geojson = {\n",
    "        \"type\": \"FeatureCollection\",\n",
    "        \"features\": []\n",
    "    }\n",
    "\n",
    "    for item in data_json:\n",
    "        # Check if item is a dictionary and has 'latitude' and 'longitude' keys\n",
    "        if isinstance(item, dict) and 'latitude' in item and 'longitude' in item:\n",
    "            feature = {\n",
    "                \"type\": \"Feature\",\n",
    "                \"geometry\": {\n",
    "                    \"type\": \"Point\",\n",
    "                    \"coordinates\": [item['longitude'], item['latitude']]\n",
    "                },\n",
    "                \"properties\": item  # Include all properties from the item\n",
    "            }\n",
    "            geojson['features'].append(feature)\n",
    "\n",
    "    # Save to a GeoJSON file\n",
    "    with open('output1.geojson', 'w', encoding='utf-8') as f:\n",
    "        json.dump(geojson, f, ensure_ascii=False, indent=4)\n",
    "\n",
    "else:\n",
    "    print(\"Data pattern not found in HTML file.\")\n"
   ]
  },
  {
   "cell_type": "code",
   "execution_count": null,
   "id": "e538dee4",
   "metadata": {},
   "outputs": [],
   "source": []
  }
 ],
 "metadata": {
  "kernelspec": {
   "display_name": "Python 3 (ipykernel)",
   "language": "python",
   "name": "python3"
  },
  "language_info": {
   "codemirror_mode": {
    "name": "ipython",
    "version": 3
   },
   "file_extension": ".py",
   "mimetype": "text/x-python",
   "name": "python",
   "nbconvert_exporter": "python",
   "pygments_lexer": "ipython3",
   "version": "3.9.13"
  }
 },
 "nbformat": 4,
 "nbformat_minor": 5
}
